{
 "metadata": {
  "name": "apply"
 },
 "nbformat": 3,
 "nbformat_minor": 0,
 "worksheets": [
  {
   "cells": [
    {
     "cell_type": "code",
     "collapsed": false,
     "input": [
      "from pandas import *\n",
      "frame = DataFrame(np.random.randn(4, 3), columns=list('bde'),\n",
      "index=['Utah', 'Ohio', 'Texas', 'Oregon'])\n",
      "frame\n"
     ],
     "language": "python",
     "outputs": [
      {
       "html": [
        "<div style=\"max-height:1000px;max-width:1500px;overflow:auto;\">\n",
        "<table border=\"1\" class=\"dataframe\">\n",
        "  <thead>\n",
        "    <tr style=\"text-align: right;\">\n",
        "      <th></th>\n",
        "      <th>b</th>\n",
        "      <th>d</th>\n",
        "      <th>e</th>\n",
        "    </tr>\n",
        "  </thead>\n",
        "  <tbody>\n",
        "    <tr>\n",
        "      <td><strong>Utah</strong></td>\n",
        "      <td> 0.790031</td>\n",
        "      <td> 0.178236</td>\n",
        "      <td> 0.025691</td>\n",
        "    </tr>\n",
        "    <tr>\n",
        "      <td><strong>Ohio</strong></td>\n",
        "      <td> 0.183670</td>\n",
        "      <td>-0.452752</td>\n",
        "      <td>-2.074796</td>\n",
        "    </tr>\n",
        "    <tr>\n",
        "      <td><strong>Texas</strong></td>\n",
        "      <td> 0.249244</td>\n",
        "      <td>-0.255357</td>\n",
        "      <td> 0.279192</td>\n",
        "    </tr>\n",
        "    <tr>\n",
        "      <td><strong>Oregon</strong></td>\n",
        "      <td> 0.013012</td>\n",
        "      <td>-0.936404</td>\n",
        "      <td> 0.137199</td>\n",
        "    </tr>\n",
        "  </tbody>\n",
        "</table>\n",
        "</div>"
       ],
       "output_type": "pyout",
       "prompt_number": 3,
       "text": [
        "               b         d         e\n",
        "Utah    0.790031  0.178236  0.025691\n",
        "Ohio    0.183670 -0.452752 -2.074796\n",
        "Texas   0.249244 -0.255357  0.279192\n",
        "Oregon  0.013012 -0.936404  0.137199"
       ]
      }
     ],
     "prompt_number": 3
    },
    {
     "cell_type": "code",
     "collapsed": false,
     "input": [
      "np.abs(frame)\n"
     ],
     "language": "python",
     "outputs": [
      {
       "html": [
        "<div style=\"max-height:1000px;max-width:1500px;overflow:auto;\">\n",
        "<table border=\"1\" class=\"dataframe\">\n",
        "  <thead>\n",
        "    <tr style=\"text-align: right;\">\n",
        "      <th></th>\n",
        "      <th>b</th>\n",
        "      <th>d</th>\n",
        "      <th>e</th>\n",
        "    </tr>\n",
        "  </thead>\n",
        "  <tbody>\n",
        "    <tr>\n",
        "      <td><strong>Utah</strong></td>\n",
        "      <td> 0.790031</td>\n",
        "      <td> 0.178236</td>\n",
        "      <td> 0.025691</td>\n",
        "    </tr>\n",
        "    <tr>\n",
        "      <td><strong>Ohio</strong></td>\n",
        "      <td> 0.183670</td>\n",
        "      <td> 0.452752</td>\n",
        "      <td> 2.074796</td>\n",
        "    </tr>\n",
        "    <tr>\n",
        "      <td><strong>Texas</strong></td>\n",
        "      <td> 0.249244</td>\n",
        "      <td> 0.255357</td>\n",
        "      <td> 0.279192</td>\n",
        "    </tr>\n",
        "    <tr>\n",
        "      <td><strong>Oregon</strong></td>\n",
        "      <td> 0.013012</td>\n",
        "      <td> 0.936404</td>\n",
        "      <td> 0.137199</td>\n",
        "    </tr>\n",
        "  </tbody>\n",
        "</table>\n",
        "</div>"
       ],
       "output_type": "pyout",
       "prompt_number": 5,
       "text": [
        "               b         d         e\n",
        "Utah    0.790031  0.178236  0.025691\n",
        "Ohio    0.183670  0.452752  2.074796\n",
        "Texas   0.249244  0.255357  0.279192\n",
        "Oregon  0.013012  0.936404  0.137199"
       ]
      }
     ],
     "prompt_number": 5
    },
    {
     "cell_type": "code",
     "collapsed": false,
     "input": [
      "f = lambda x: x.max() - x.min()\n",
      "frame.apply(f)\n"
     ],
     "language": "python",
     "outputs": [
      {
       "output_type": "pyout",
       "prompt_number": 7,
       "text": [
        "b    0.777019\n",
        "d    1.114640\n",
        "e    2.353989"
       ]
      }
     ],
     "prompt_number": 7
    },
    {
     "cell_type": "code",
     "collapsed": false,
     "input": [
      "def f(x):\n",
      "   return Series([x.min(), x.max()], index=['min', 'max'])\n",
      "frame.apply(f)\n"
     ],
     "language": "python",
     "outputs": [
      {
       "html": [
        "<div style=\"max-height:1000px;max-width:1500px;overflow:auto;\">\n",
        "<table border=\"1\" class=\"dataframe\">\n",
        "  <thead>\n",
        "    <tr style=\"text-align: right;\">\n",
        "      <th></th>\n",
        "      <th>b</th>\n",
        "      <th>d</th>\n",
        "      <th>e</th>\n",
        "    </tr>\n",
        "  </thead>\n",
        "  <tbody>\n",
        "    <tr>\n",
        "      <td><strong>min</strong></td>\n",
        "      <td> 0.013012</td>\n",
        "      <td>-0.936404</td>\n",
        "      <td>-2.074796</td>\n",
        "    </tr>\n",
        "    <tr>\n",
        "      <td><strong>max</strong></td>\n",
        "      <td> 0.790031</td>\n",
        "      <td> 0.178236</td>\n",
        "      <td> 0.279192</td>\n",
        "    </tr>\n",
        "  </tbody>\n",
        "</table>\n",
        "</div>"
       ],
       "output_type": "pyout",
       "prompt_number": 8,
       "text": [
        "            b         d         e\n",
        "min  0.013012 -0.936404 -2.074796\n",
        "max  0.790031  0.178236  0.279192"
       ]
      }
     ],
     "prompt_number": 8
    },
    {
     "cell_type": "code",
     "collapsed": false,
     "input": [],
     "language": "python",
     "outputs": []
    }
   ]
  }
 ]
}