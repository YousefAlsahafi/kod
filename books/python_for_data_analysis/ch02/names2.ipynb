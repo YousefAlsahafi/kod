{
 "metadata": {
  "name": "names2"
 }, 
 "nbformat": 2, 
 "worksheets": [
  {
   "cells": [
    {
     "cell_type": "code", 
     "collapsed": false, 
     "input": [
      "import pandas", 
      "years = range(1880, 2011)", 
      "pieces = []", 
      "columns = ['name', 'sex', 'births']", 
      "for year in years: ", 
      "    path = 'names/yob%d.txt' % year", 
      "    frame = pandas.read_csv(path, names=columns)", 
      "    frame['year'] = year", 
      "    pieces.append(frame)", 
      "    ", 
      "names = pandas.concat(pieces, ignore_index=True)"
     ], 
     "language": "python", 
     "outputs": [], 
     "prompt_number": 3
    }, 
    {
     "cell_type": "code", 
     "collapsed": false, 
     "input": [
      "get_last_letter = lambda x: x[-1]", 
      "last_letters = names.name.map(get_last_letter)", 
      "table = names.pivot_table('births', rows=last_letters,", 
      "                          cols=['sex', 'year'], aggfunc=sum)", 
      "subtable = table.reindex(columns=[1910, 1960, 2010], level='year')", 
      "subtable.head()", 
      "get_last_letter = lambda x: x[-1]", 
      "last_letters = names.name.map(get_last_letter)", 
      "table = names.pivot_table('births', rows=last_letters,", 
      "                          cols=['sex', 'year'], aggfunc=sum)"
     ], 
     "language": "python", 
     "outputs": [
      {
       "output_type": "pyout", 
       "prompt_number": 5, 
       "text": [
        "<class 'pandas.core.frame.DataFrame'>", 
        "Index: 5 entries, a to e", 
        "Columns: 262 entries, (F, 1880) to (M, 2010)", 
        "dtypes: float64(262)"
       ]
      }
     ], 
     "prompt_number": 5
    }, 
    {
     "cell_type": "code", 
     "collapsed": false, 
     "input": [
      "subtable = table.reindex(columns=[1910, 1960, 2010], level='year')", 
      "subtable.head()"
     ], 
     "language": "python", 
     "outputs": [
      {
       "html": [
        "<div style=\"max-height:1000px;max-width:1500px;overflow:auto;\">", 
        "<table border=\"1\" class=\"dataframe\">", 
        "  <thead>", 
        "    <tr>", 
        "      <th>sex</th>", 
        "      <th colspan=\"3\" halign=\"left\">F</th>", 
        "      <th colspan=\"3\" halign=\"left\">M</th>", 
        "    </tr>", 
        "    <tr>", 
        "      <th>year</th>", 
        "      <th>1910</th>", 
        "      <th>1960</th>", 
        "      <th>2010</th>", 
        "      <th>1910</th>", 
        "      <th>1960</th>", 
        "      <th>2010</th>", 
        "    </tr>", 
        "    <tr>", 
        "      <th>name</th>", 
        "      <th></th>", 
        "      <th></th>", 
        "      <th></th>", 
        "      <th></th>", 
        "      <th></th>", 
        "      <th></th>", 
        "    </tr>", 
        "  </thead>", 
        "  <tbody>", 
        "    <tr>", 
        "      <td><strong>a</strong></td>", 
        "      <td> 108376</td>", 
        "      <td> 691247</td>", 
        "      <td> 670605</td>", 
        "      <td>   977</td>", 
        "      <td>   5204</td>", 
        "      <td>  28438</td>", 
        "    </tr>", 
        "    <tr>", 
        "      <td><strong>b</strong></td>", 
        "      <td>    NaN</td>", 
        "      <td>    694</td>", 
        "      <td>    450</td>", 
        "      <td>   411</td>", 
        "      <td>   3912</td>", 
        "      <td>  38859</td>", 
        "    </tr>", 
        "    <tr>", 
        "      <td><strong>c</strong></td>", 
        "      <td>      5</td>", 
        "      <td>     49</td>", 
        "      <td>    946</td>", 
        "      <td>   482</td>", 
        "      <td>  15476</td>", 
        "      <td>  23125</td>", 
        "    </tr>", 
        "    <tr>", 
        "      <td><strong>d</strong></td>", 
        "      <td>   6750</td>", 
        "      <td>   3729</td>", 
        "      <td>   2607</td>", 
        "      <td> 22111</td>", 
        "      <td> 262112</td>", 
        "      <td>  44398</td>", 
        "    </tr>", 
        "    <tr>", 
        "      <td><strong>e</strong></td>", 
        "      <td> 133569</td>", 
        "      <td> 435013</td>", 
        "      <td> 313833</td>", 
        "      <td> 28655</td>", 
        "      <td> 178823</td>", 
        "      <td> 129012</td>", 
        "    </tr>", 
        "  </tbody>", 
        "</table>", 
        "</div>"
       ], 
       "output_type": "pyout", 
       "prompt_number": 6, 
       "text": [
        "sex        F                      M                ", 
        "year    1910    1960    2010   1910    1960    2010", 
        "name                                               ", 
        "a     108376  691247  670605    977    5204   28438", 
        "b        NaN     694     450    411    3912   38859", 
        "c          5      49     946    482   15476   23125", 
        "d       6750    3729    2607  22111  262112   44398", 
        "e     133569  435013  313833  28655  178823  129012"
       ]
      }
     ], 
     "prompt_number": 6
    }, 
    {
     "cell_type": "code", 
     "collapsed": false, 
     "input": [], 
     "language": "python", 
     "outputs": []
    }
   ]
  }
 ]
}