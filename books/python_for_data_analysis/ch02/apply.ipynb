{
 "metadata": {
  "name": "apply"
 },
 "nbformat": 3,
 "nbformat_minor": 0,
 "worksheets": [
  {
   "cells": [
    {
     "cell_type": "code",
     "collapsed": false,
     "input": [
      "import pandas\n",
      "import numpy as np\n",
      "frame = pandas.DataFrame(np.random.randn(4, 3), columns=list('bde'),\n",
      "index=['Utah', 'Ohio', 'Texas', 'Oregon'])"
     ],
     "language": "python",
     "metadata": {},
     "outputs": [],
     "prompt_number": 1
    },
    {
     "cell_type": "code",
     "collapsed": false,
     "input": [
      "frame"
     ],
     "language": "python",
     "metadata": {},
     "outputs": [
      {
       "html": [
        "<div style=\"max-height:1000px;max-width:1500px;overflow:auto;\">\n",
        "<table border=\"1\" class=\"dataframe\">\n",
        "  <thead>\n",
        "    <tr style=\"text-align: right;\">\n",
        "      <th></th>\n",
        "      <th>b</th>\n",
        "      <th>d</th>\n",
        "      <th>e</th>\n",
        "    </tr>\n",
        "  </thead>\n",
        "  <tbody>\n",
        "    <tr>\n",
        "      <td><strong>Utah</strong></td>\n",
        "      <td> 0.735877</td>\n",
        "      <td>-1.165131</td>\n",
        "      <td>-0.800192</td>\n",
        "    </tr>\n",
        "    <tr>\n",
        "      <td><strong>Ohio</strong></td>\n",
        "      <td> 1.184500</td>\n",
        "      <td>-1.963458</td>\n",
        "      <td>-0.059847</td>\n",
        "    </tr>\n",
        "    <tr>\n",
        "      <td><strong>Texas</strong></td>\n",
        "      <td>-0.977170</td>\n",
        "      <td>-0.377768</td>\n",
        "      <td>-0.705170</td>\n",
        "    </tr>\n",
        "    <tr>\n",
        "      <td><strong>Oregon</strong></td>\n",
        "      <td> 1.113599</td>\n",
        "      <td> 1.502007</td>\n",
        "      <td>-0.258271</td>\n",
        "    </tr>\n",
        "  </tbody>\n",
        "</table>\n",
        "</div>"
       ],
       "output_type": "pyout",
       "prompt_number": 15,
       "text": [
        "               b         d         e\n",
        "Utah    0.735877 -1.165131 -0.800192\n",
        "Ohio    1.184500 -1.963458 -0.059847\n",
        "Texas  -0.977170 -0.377768 -0.705170\n",
        "Oregon  1.113599  1.502007 -0.258271"
       ]
      }
     ],
     "prompt_number": 15
    },
    {
     "cell_type": "code",
     "collapsed": false,
     "input": [
      "f = lambda x: x.max() - x.min()"
     ],
     "language": "python",
     "metadata": {},
     "outputs": [],
     "prompt_number": 14
    },
    {
     "cell_type": "code",
     "collapsed": false,
     "input": [
      "frame.apply(f)"
     ],
     "language": "python",
     "metadata": {},
     "outputs": [
      {
       "html": [
        "<div style=\"max-height:1000px;max-width:1500px;overflow:auto;\">\n",
        "<table border=\"1\" class=\"dataframe\">\n",
        "  <thead>\n",
        "    <tr style=\"text-align: right;\">\n",
        "      <th></th>\n",
        "      <th>b</th>\n",
        "      <th>d</th>\n",
        "      <th>e</th>\n",
        "    </tr>\n",
        "  </thead>\n",
        "  <tbody>\n",
        "    <tr>\n",
        "      <td><strong>min</strong></td>\n",
        "      <td>-0.97717</td>\n",
        "      <td>-1.963458</td>\n",
        "      <td>-0.800192</td>\n",
        "    </tr>\n",
        "    <tr>\n",
        "      <td><strong>max</strong></td>\n",
        "      <td> 1.18450</td>\n",
        "      <td> 1.502007</td>\n",
        "      <td>-0.059847</td>\n",
        "    </tr>\n",
        "  </tbody>\n",
        "</table>\n",
        "</div>"
       ],
       "output_type": "pyout",
       "prompt_number": 13,
       "text": [
        "           b         d         e\n",
        "min -0.97717 -1.963458 -0.800192\n",
        "max  1.18450  1.502007 -0.059847"
       ]
      }
     ],
     "prompt_number": 13
    },
    {
     "cell_type": "code",
     "collapsed": false,
     "input": [
      "frame.apply(f, axis=1)"
     ],
     "language": "python",
     "metadata": {},
     "outputs": [
      {
       "output_type": "pyout",
       "prompt_number": 11,
       "text": [
        "Utah      0.998568\n",
        "Ohio      0.733495\n",
        "Texas     1.697982\n",
        "Oregon    1.216231"
       ]
      }
     ],
     "prompt_number": 11
    },
    {
     "cell_type": "code",
     "collapsed": false,
     "input": [
      "def f(x):\n",
      "    return pandas.Series([x.min(), x.max()], index=['min', 'max'])\n",
      "frame.apply(f)\n",
      "   "
     ],
     "language": "python",
     "metadata": {},
     "outputs": [
      {
       "html": [
        "<div style=\"max-height:1000px;max-width:1500px;overflow:auto;\">\n",
        "<table border=\"1\" class=\"dataframe\">\n",
        "  <thead>\n",
        "    <tr style=\"text-align: right;\">\n",
        "      <th></th>\n",
        "      <th>b</th>\n",
        "      <th>d</th>\n",
        "      <th>e</th>\n",
        "    </tr>\n",
        "  </thead>\n",
        "  <tbody>\n",
        "    <tr>\n",
        "      <td><strong>min</strong></td>\n",
        "      <td>-0.915893</td>\n",
        "      <td>-0.058263</td>\n",
        "      <td>-1.983254</td>\n",
        "    </tr>\n",
        "    <tr>\n",
        "      <td><strong>max</strong></td>\n",
        "      <td>-0.017119</td>\n",
        "      <td> 1.790340</td>\n",
        "      <td> 2.504674</td>\n",
        "    </tr>\n",
        "  </tbody>\n",
        "</table>\n",
        "</div>"
       ],
       "output_type": "pyout",
       "prompt_number": 2,
       "text": [
        "            b         d         e\n",
        "min -0.915893 -0.058263 -1.983254\n",
        "max -0.017119  1.790340  2.504674"
       ]
      }
     ],
     "prompt_number": 2
    },
    {
     "cell_type": "code",
     "collapsed": false,
     "input": [],
     "language": "python",
     "metadata": {},
     "outputs": []
    }
   ],
   "metadata": {}
  }
 ]
}