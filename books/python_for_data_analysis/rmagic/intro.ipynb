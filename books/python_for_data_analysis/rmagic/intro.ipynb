{
 "metadata": {
  "name": "intro"
 },
 "nbformat": 3,
 "nbformat_minor": 0,
 "worksheets": [
  {
   "cells": [
    {
     "cell_type": "code",
     "collapsed": false,
     "input": [
      "%load_ext rmagic\n",
      "%R X=c(1,4,5,7); sd(X); mean(X)"
     ],
     "language": "python",
     "outputs": [
      {
       "output_type": "pyout",
       "prompt_number": 2,
       "text": [
        "array([ 4.25])"
       ]
      }
     ],
     "prompt_number": 2
    },
    {
     "cell_type": "code",
     "collapsed": false,
     "input": [
      "from pandas import *\n",
      "parasiteData = read_csv(\"parasite_data.csv\", sep=\",\", na_values=[\"\", \" \"])\n",
      "%R -i parasiteData print(summary(parasiteData))"
     ],
     "language": "python",
     "outputs": [
      {
       "output_type": "display_data",
       "text": [
        "       V1              V2             V3        \n",
        " Min.   : 0.50   Min.   : 1.0   Min.   :0.0000  \n",
        " 1st Qu.: 0.60   1st Qu.:13.0   1st Qu.:0.0000  \n",
        " Median : 0.75   Median :25.5   Median :0.8457  \n",
        " Mean   : 0.75   Mean   :25.5   Mean   :0.8364  \n",
        " 3rd Qu.: 0.90   3rd Qu.:38.0   3rd Qu.:1.5337  \n",
        " Max.   : 1.00   Max.   :50.0   Max.   :2.9008  \n",
        " NA's   :50.00                                  \n"
       ]
      }
     ],
     "prompt_number": 3
    },
    {
     "cell_type": "code",
     "collapsed": false,
     "input": [],
     "language": "python",
     "outputs": []
    }
   ]
  }
 ]
}