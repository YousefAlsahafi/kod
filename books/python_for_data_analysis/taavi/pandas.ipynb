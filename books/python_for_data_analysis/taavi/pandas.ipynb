{
 "metadata": {
  "name": "pandas"
 }, 
 "nbformat": 2, 
 "worksheets": [
  {
   "cells": [
    {
     "cell_type": "markdown", 
     "source": [
      "Pandas serileri ile ilgili bazi notlar."
     ]
    }, 
    {
     "cell_type": "code", 
     "collapsed": false, 
     "input": [
      "import pandas", 
      "a = pandas.Series([1,2,3])", 
      "a"
     ], 
     "language": "python", 
     "outputs": [
      {
       "output_type": "pyout", 
       "prompt_number": 21, 
       "text": [
        "0    1", 
        "1    2", 
        "2    3"
       ]
      }
     ], 
     "prompt_number": 21
    }, 
    {
     "cell_type": "markdown", 
     "source": [
      "Seri icindeki tipleri gosterelim"
     ]
    }, 
    {
     "cell_type": "code", 
     "collapsed": false, 
     "input": [
      "a.dtype"
     ], 
     "language": "python", 
     "outputs": [
      {
       "output_type": "pyout", 
       "prompt_number": 22, 
       "text": [
        "dtype('int64')"
       ]
      }
     ], 
     "prompt_number": 22
    }, 
    {
     "cell_type": "markdown", 
     "source": [
      "Hersey bir tam sayi.. Fakat seri icindeki tek bir sayiyi bile float", 
      "yaparsak, o zaman digerleri de float haline gelir"
     ]
    }, 
    {
     "cell_type": "code", 
     "collapsed": false, 
     "input": [
      "b = pandas.Series([1, 2.3, 3])", 
      "b"
     ], 
     "language": "python", 
     "outputs": [
      {
       "output_type": "pyout", 
       "prompt_number": 19, 
       "text": [
        "0    1.0", 
        "1    2.3", 
        "2    3.0"
       ]
      }
     ], 
     "prompt_number": 19
    }, 
    {
     "cell_type": "code", 
     "collapsed": false, 
     "input": [
      "a.dtype"
     ], 
     "language": "python", 
     "outputs": [
      {
       "output_type": "pyout", 
       "prompt_number": 18, 
       "text": [
        "dtype('float64')"
       ]
      }
     ], 
     "prompt_number": 18
    }, 
    {
     "cell_type": "markdown", 
     "source": [
      "Tabii bu Python sonucta, ve hersey aslinda bir objedir, eger bir suru", 
      "karisik tipi ayni seriye koyarsak,"
     ]
    }, 
    {
     "cell_type": "code", 
     "collapsed": false, 
     "input": [
      "c = pandas.Series(['a', None, 5])", 
      "c"
     ], 
     "language": "python", 
     "outputs": [
      {
       "output_type": "pyout", 
       "prompt_number": 17, 
       "text": [
        "0       a", 
        "1    None", 
        "2       5"
       ]
      }
     ], 
     "prompt_number": 17
    }, 
    {
     "cell_type": "code", 
     "collapsed": false, 
     "input": [
      "c.dtype"
     ], 
     "language": "python", 
     "outputs": [
      {
       "output_type": "pyout", 
       "prompt_number": 8, 
       "text": [
        "dtype('object')"
       ]
      }
     ], 
     "prompt_number": 8
    }, 
    {
     "cell_type": "markdown", 
     "source": [
      "Numpy ve Pandas listeleri / objeleri uzerinde yapilabilen cok faydali", 
      "bir operasyon yayinlama (broadcasting) operasyonudur. Bu operasyon ile", 
      "tek bir hucre / sayi uzerinde yapilabilen islem, tum liste ogeleri", 
      "uzerinde de yapilabilir. Mesela"
     ]
    }, 
    {
     "cell_type": "code", 
     "collapsed": false, 
     "input": [
      "a == 1"
     ], 
     "language": "python", 
     "outputs": [
      {
       "output_type": "pyout", 
       "prompt_number": 14, 
       "text": [
        "0     True", 
        "1    False", 
        "2    False"
       ]
      }
     ], 
     "prompt_number": 14
    }, 
    {
     "cell_type": "markdown", 
     "source": [
      "Burada \"1'e esit olma / olmama\" irdelemesini tum liste uzerinde yaptik. Ya da"
     ]
    }, 
    {
     "cell_type": "code", 
     "collapsed": false, 
     "input": [
      "a > 1"
     ], 
     "language": "python", 
     "outputs": [
      {
       "output_type": "pyout", 
       "prompt_number": 15, 
       "text": [
        "0    False", 
        "1     True", 
        "2     True"
       ]
      }
     ], 
     "prompt_number": 15
    }, 
    {
     "cell_type": "markdown", 
     "source": [
      "Goruldugu gibi irdeleme sonrasi elimize orijinal listeyle ayni", 
      "buyuklukte, ama bu sefer icinde yaptigimiz irdelemenin sonuclarini", 
      "tasiyan bir liste geciyor. "
     ]
    }, 
    {
     "cell_type": "markdown", 
     "source": [
      "Sadece == ya da > gibi islemlerle sinirli degiliz, kendi", 
      "tanimladigimiz fonksiyonlari da yayinlama icin kullanabiliriz. Mesela"
     ]
    }, 
    {
     "cell_type": "code", 
     "collapsed": false, 
     "input": [
      "a.map(lambda x: x % 2 == 0)"
     ], 
     "language": "python", 
     "outputs": [
      {
       "output_type": "pyout", 
       "prompt_number": 23, 
       "text": [
        "0    False", 
        "1     True", 
        "2    False"
       ]
      }
     ], 
     "prompt_number": 23
    }, 
    {
     "cell_type": "code", 
     "collapsed": false, 
     "input": [], 
     "language": "python", 
     "outputs": []
    }
   ]
  }
 ]
}