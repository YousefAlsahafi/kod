{
 "metadata": {
  "name": "Untitled0"
 }, 
 "nbformat": 2, 
 "worksheets": [
  {
   "cells": [
    {
     "cell_type": "code", 
     "collapsed": false, 
     "input": [
      "import pandas as pd", 
      "names1880 = pd.read_csv('names/yob1880.txt', names=['name', 'sex', 'births'])"
     ], 
     "language": "python", 
     "outputs": [], 
     "prompt_number": 2
    }, 
    {
     "cell_type": "code", 
     "collapsed": false, 
     "input": [
      "names1880"
     ], 
     "language": "python", 
     "outputs": [
      {
       "output_type": "pyout", 
       "prompt_number": 3, 
       "text": [
        "<class 'pandas.core.frame.DataFrame'>", 
        "Int64Index: 2000 entries, 0 to 1999", 
        "Data columns:", 
        "name      2000  non-null values", 
        "sex       2000  non-null values", 
        "births    2000  non-null values", 
        "dtypes: int64(1), object(2)"
       ]
      }
     ], 
     "prompt_number": 3
    }, 
    {
     "cell_type": "code", 
     "collapsed": false, 
     "input": [
      "names1880.groupby('sex').births.sum()"
     ], 
     "language": "python", 
     "outputs": [
      {
       "output_type": "pyout", 
       "prompt_number": 4, 
       "text": [
        "sex", 
        "F       90993", 
        "M      110493", 
        "Name: births"
       ]
      }
     ], 
     "prompt_number": 4
    }, 
    {
     "cell_type": "code", 
     "collapsed": false, 
     "input": [], 
     "language": "python", 
     "outputs": []
    }
   ]
  }
 ]
}