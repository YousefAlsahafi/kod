{
 "metadata": {
  "name": "names"
 }, 
 "nbformat": 2, 
 "worksheets": [
  {
   "cells": [
    {
     "cell_type": "code", 
     "collapsed": false, 
     "input": [
      "import pandas as pd", 
      "names1880 = pd.read_csv('names/yob1880.txt', names=['name', 'sex', 'births'])"
     ], 
     "language": "python", 
     "outputs": [], 
     "prompt_number": 2
    }, 
    {
     "cell_type": "code", 
     "collapsed": false, 
     "input": [
      "names1880"
     ], 
     "language": "python", 
     "outputs": [
      {
       "output_type": "pyout", 
       "prompt_number": 3, 
       "text": [
        "<class 'pandas.core.frame.DataFrame'>", 
        "Int64Index: 2000 entries, 0 to 1999", 
        "Data columns:", 
        "name      2000  non-null values", 
        "sex       2000  non-null values", 
        "births    2000  non-null values", 
        "dtypes: int64(1), object(2)"
       ]
      }
     ], 
     "prompt_number": 3
    }, 
    {
     "cell_type": "code", 
     "collapsed": false, 
     "input": [
      "names1880.groupby('sex').births.sum()"
     ], 
     "language": "python", 
     "outputs": [
      {
       "output_type": "pyout", 
       "prompt_number": 4, 
       "text": [
        "sex", 
        "F       90993", 
        "M      110493", 
        "Name: births"
       ]
      }
     ], 
     "prompt_number": 4
    }, 
    {
     "cell_type": "code", 
     "collapsed": false, 
     "input": [
      "years = range(1880, 2011)", 
      "pieces = []", 
      "columns = ['name', 'sex', 'births']", 
      "for year in years: ", 
      "    path = 'names/yob%d.txt' % year", 
      "    frame = pd.read_csv(path, names=columns)", 
      "    frame['year'] = year", 
      "    pieces.append(frame)", 
      "    ", 
      "names = pd.concat(pieces, ignore_index=True)"
     ], 
     "language": "python", 
     "outputs": [], 
     "prompt_number": 5
    }, 
    {
     "cell_type": "code", 
     "collapsed": false, 
     "input": [
      "names"
     ], 
     "language": "python", 
     "outputs": [
      {
       "output_type": "pyout", 
       "prompt_number": 6, 
       "text": [
        "<class 'pandas.core.frame.DataFrame'>", 
        "Int64Index: 1690784 entries, 0 to 1690783", 
        "Data columns:", 
        "name      1690784  non-null values", 
        "sex       1690784  non-null values", 
        "births    1690784  non-null values", 
        "year      1690784  non-null values", 
        "dtypes: int64(2), object(2)"
       ]
      }
     ], 
     "prompt_number": 6
    }, 
    {
     "cell_type": "code", 
     "collapsed": false, 
     "input": [
      "total_births = names.pivot_table('births', rows='year',cols='sex', aggfunc=sum)", 
      "total_births.tail()"
     ], 
     "language": "python", 
     "outputs": [
      {
       "html": [
        "<div style=\"max-height:1000px;max-width:1500px;overflow:auto;\">", 
        "<table border=\"1\" class=\"dataframe\">", 
        "  <thead>", 
        "    <tr style=\"text-align: right;\">", 
        "      <th>sex</th>", 
        "      <th>F</th>", 
        "      <th>M</th>", 
        "    </tr>", 
        "    <tr>", 
        "      <th>year</th>", 
        "      <th></th>", 
        "      <th></th>", 
        "    </tr>", 
        "  </thead>", 
        "  <tbody>", 
        "    <tr>", 
        "      <td><strong>2006</strong></td>", 
        "      <td> 1896468</td>", 
        "      <td> 2050234</td>", 
        "    </tr>", 
        "    <tr>", 
        "      <td><strong>2007</strong></td>", 
        "      <td> 1916888</td>", 
        "      <td> 2069242</td>", 
        "    </tr>", 
        "    <tr>", 
        "      <td><strong>2008</strong></td>", 
        "      <td> 1883645</td>", 
        "      <td> 2032310</td>", 
        "    </tr>", 
        "    <tr>", 
        "      <td><strong>2009</strong></td>", 
        "      <td> 1827643</td>", 
        "      <td> 1973359</td>", 
        "    </tr>", 
        "    <tr>", 
        "      <td><strong>2010</strong></td>", 
        "      <td> 1759010</td>", 
        "      <td> 1898382</td>", 
        "    </tr>", 
        "  </tbody>", 
        "</table>", 
        "</div>"
       ], 
       "output_type": "pyout", 
       "prompt_number": 7, 
       "text": [
        "sex         F        M", 
        "year                  ", 
        "2006  1896468  2050234", 
        "2007  1916888  2069242", 
        "2008  1883645  2032310", 
        "2009  1827643  1973359", 
        "2010  1759010  1898382"
       ]
      }
     ], 
     "prompt_number": 7
    }, 
    {
     "cell_type": "code", 
     "collapsed": false, 
     "input": [
      "total_births.plot(title='Total births by sex and year')"
     ], 
     "language": "python", 
     "outputs": [
      {
       "output_type": "pyout", 
       "prompt_number": 8, 
       "text": [
        "<matplotlib.axes.AxesSubplot at 0xb41ccec>"
       ]
      }, 
      {
       "output_type": "display_data", 
       "png": "[encoded data removed]"
      }
     ], 
     "prompt_number": 8
    }, 
    {
     "cell_type": "code", 
     "collapsed": false, 
     "input": [
      "def add_prop(group):", 
      "    births = group.births.astype(float)", 
      "    group['prop'] = births / births.sum()", 
      "    return group", 
      "", 
      "names = names.groupby(['year','sex']).apply(add_prop)", 
      "names"
     ], 
     "language": "python", 
     "outputs": [
      {
       "output_type": "pyout", 
       "prompt_number": 9, 
       "text": [
        "<class 'pandas.core.frame.DataFrame'>", 
        "Int64Index: 1690784 entries, 0 to 1690783", 
        "Data columns:", 
        "name      1690784  non-null values", 
        "sex       1690784  non-null values", 
        "births    1690784  non-null values", 
        "year      1690784  non-null values", 
        "prop      1690784  non-null values", 
        "dtypes: float64(1), int64(2), object(2)"
       ]
      }
     ], 
     "prompt_number": 9
    }, 
    {
     "cell_type": "code", 
     "collapsed": false, 
     "input": [
      "np.allclose(names.groupby(['year', 'sex']).prop.sum(), 1)"
     ], 
     "language": "python", 
     "outputs": [
      {
       "output_type": "pyout", 
       "prompt_number": 10, 
       "text": [
        "True"
       ]
      }
     ], 
     "prompt_number": 10
    }, 
    {
     "cell_type": "code", 
     "collapsed": false, 
     "input": [
      "def get_tops(group):    ", 
      "    return group.sort_index(by='births', ascending=False)[:1000]"
     ], 
     "language": "python", 
     "outputs": [], 
     "prompt_number": 11
    }, 
    {
     "cell_type": "code", 
     "collapsed": false, 
     "input": [
      "grouped = names.groupby(['year','sex'])", 
      "top1000 = grouped.apply(get_tops)"
     ], 
     "language": "python", 
     "outputs": [], 
     "prompt_number": 12
    }, 
    {
     "cell_type": "code", 
     "collapsed": false, 
     "input": [
      "table = top1000.pivot_table('prop', rows='year', cols='sex', aggfunc=sum)"
     ], 
     "language": "python", 
     "outputs": [], 
     "prompt_number": 13
    }, 
    {
     "cell_type": "code", 
     "collapsed": false, 
     "input": [
      "table.plot(title='Sum of table1000.prop by year and sex',", 
      "     yticks=np.linspace(0, 1.2, 13), xticks=range(1880, 2020, 10))"
     ], 
     "language": "python", 
     "outputs": [
      {
       "output_type": "pyout", 
       "prompt_number": 14, 
       "text": [
        "<matplotlib.axes.AxesSubplot at 0xf5ff4cc>"
       ]
      }, 
      {
       "output_type": "display_data", 
       "png": "[encoded data removed]"
      }
     ], 
     "prompt_number": 14
    }, 
    {
     "cell_type": "code", 
     "collapsed": false, 
     "input": [], 
     "language": "python", 
     "outputs": []
    }
   ]
  }
 ]
}