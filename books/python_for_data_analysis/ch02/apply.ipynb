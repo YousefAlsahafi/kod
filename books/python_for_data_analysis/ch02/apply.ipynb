{
 "metadata": {
  "name": "apply"
 }, 
 "nbformat": 2, 
 "worksheets": [
  {
   "cells": [
    {
     "cell_type": "code", 
     "collapsed": false, 
     "input": [
      "import pandas", 
      "import numpy as np", 
      "frame = pandas.DataFrame(np.random.randn(4, 3), columns=list('bde'),", 
      "index=['Utah', 'Ohio', 'Texas', 'Oregon'])"
     ], 
     "language": "python", 
     "outputs": [], 
     "prompt_number": 1
    }, 
    {
     "cell_type": "code", 
     "collapsed": false, 
     "input": [
      "frame"
     ], 
     "language": "python", 
     "outputs": [
      {
       "html": [
        "<div style=\"max-height:1000px;max-width:1500px;overflow:auto;\">", 
        "<table border=\"1\" class=\"dataframe\">", 
        "  <thead>", 
        "    <tr style=\"text-align: right;\">", 
        "      <th></th>", 
        "      <th>b</th>", 
        "      <th>d</th>", 
        "      <th>e</th>", 
        "    </tr>", 
        "  </thead>", 
        "  <tbody>", 
        "    <tr>", 
        "      <td><strong>Utah</strong></td>", 
        "      <td> 0.735877</td>", 
        "      <td>-1.165131</td>", 
        "      <td>-0.800192</td>", 
        "    </tr>", 
        "    <tr>", 
        "      <td><strong>Ohio</strong></td>", 
        "      <td> 1.184500</td>", 
        "      <td>-1.963458</td>", 
        "      <td>-0.059847</td>", 
        "    </tr>", 
        "    <tr>", 
        "      <td><strong>Texas</strong></td>", 
        "      <td>-0.977170</td>", 
        "      <td>-0.377768</td>", 
        "      <td>-0.705170</td>", 
        "    </tr>", 
        "    <tr>", 
        "      <td><strong>Oregon</strong></td>", 
        "      <td> 1.113599</td>", 
        "      <td> 1.502007</td>", 
        "      <td>-0.258271</td>", 
        "    </tr>", 
        "  </tbody>", 
        "</table>", 
        "</div>"
       ], 
       "output_type": "pyout", 
       "prompt_number": 15, 
       "text": [
        "               b         d         e", 
        "Utah    0.735877 -1.165131 -0.800192", 
        "Ohio    1.184500 -1.963458 -0.059847", 
        "Texas  -0.977170 -0.377768 -0.705170", 
        "Oregon  1.113599  1.502007 -0.258271"
       ]
      }
     ], 
     "prompt_number": 15
    }, 
    {
     "cell_type": "code", 
     "collapsed": false, 
     "input": [
      "f = lambda x: x.max() - x.min()"
     ], 
     "language": "python", 
     "outputs": [], 
     "prompt_number": 14
    }, 
    {
     "cell_type": "code", 
     "collapsed": false, 
     "input": [
      "frame.apply(f)"
     ], 
     "language": "python", 
     "outputs": [
      {
       "html": [
        "<div style=\"max-height:1000px;max-width:1500px;overflow:auto;\">", 
        "<table border=\"1\" class=\"dataframe\">", 
        "  <thead>", 
        "    <tr style=\"text-align: right;\">", 
        "      <th></th>", 
        "      <th>b</th>", 
        "      <th>d</th>", 
        "      <th>e</th>", 
        "    </tr>", 
        "  </thead>", 
        "  <tbody>", 
        "    <tr>", 
        "      <td><strong>min</strong></td>", 
        "      <td>-0.97717</td>", 
        "      <td>-1.963458</td>", 
        "      <td>-0.800192</td>", 
        "    </tr>", 
        "    <tr>", 
        "      <td><strong>max</strong></td>", 
        "      <td> 1.18450</td>", 
        "      <td> 1.502007</td>", 
        "      <td>-0.059847</td>", 
        "    </tr>", 
        "  </tbody>", 
        "</table>", 
        "</div>"
       ], 
       "output_type": "pyout", 
       "prompt_number": 13, 
       "text": [
        "           b         d         e", 
        "min -0.97717 -1.963458 -0.800192", 
        "max  1.18450  1.502007 -0.059847"
       ]
      }
     ], 
     "prompt_number": 13
    }, 
    {
     "cell_type": "code", 
     "collapsed": false, 
     "input": [
      "frame.apply(f, axis=1)"
     ], 
     "language": "python", 
     "outputs": [
      {
       "output_type": "pyout", 
       "prompt_number": 11, 
       "text": [
        "Utah      0.998568", 
        "Ohio      0.733495", 
        "Texas     1.697982", 
        "Oregon    1.216231"
       ]
      }
     ], 
     "prompt_number": 11
    }, 
    {
     "cell_type": "code", 
     "collapsed": false, 
     "input": [
      "def f(x):", 
      "    return pandas.Series([x.min(), x.max()], index=['min', 'max'])", 
      "frame.apply(f)", 
      "   "
     ], 
     "language": "python", 
     "outputs": [
      {
       "html": [
        "<div style=\"max-height:1000px;max-width:1500px;overflow:auto;\">", 
        "<table border=\"1\" class=\"dataframe\">", 
        "  <thead>", 
        "    <tr style=\"text-align: right;\">", 
        "      <th></th>", 
        "      <th>b</th>", 
        "      <th>d</th>", 
        "      <th>e</th>", 
        "    </tr>", 
        "  </thead>", 
        "  <tbody>", 
        "    <tr>", 
        "      <td><strong>min</strong></td>", 
        "      <td>-0.915893</td>", 
        "      <td>-0.058263</td>", 
        "      <td>-1.983254</td>", 
        "    </tr>", 
        "    <tr>", 
        "      <td><strong>max</strong></td>", 
        "      <td>-0.017119</td>", 
        "      <td> 1.790340</td>", 
        "      <td> 2.504674</td>", 
        "    </tr>", 
        "  </tbody>", 
        "</table>", 
        "</div>"
       ], 
       "output_type": "pyout", 
       "prompt_number": 2, 
       "text": [
        "            b         d         e", 
        "min -0.915893 -0.058263 -1.983254", 
        "max -0.017119  1.790340  2.504674"
       ]
      }
     ], 
     "prompt_number": 2
    }, 
    {
     "cell_type": "code", 
     "collapsed": false, 
     "input": [], 
     "language": "python", 
     "outputs": []
    }
   ]
  }
 ]
}